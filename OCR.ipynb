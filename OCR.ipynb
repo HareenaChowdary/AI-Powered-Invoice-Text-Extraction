{
 "cells": [
  {
   "cell_type": "code",
   "execution_count": 0,
   "metadata": {
    "application/vnd.databricks.v1+cell": {
     "cellMetadata": {},
     "inputWidgets": {},
     "nuid": "a93e3e6a-4822-4fa6-8ea8-87732641c73d",
     "showTitle": false,
     "title": ""
    }
   },
   "outputs": [],
   "source": [
    "import numpy as np\n",
    "from PIL import Image\n"
   ]
  },
  {
   "cell_type": "code",
   "execution_count": 0,
   "metadata": {
    "application/vnd.databricks.v1+cell": {
     "cellMetadata": {},
     "inputWidgets": {},
     "nuid": "83255e97-15f3-4db4-b260-4c4256db56e6",
     "showTitle": false,
     "title": ""
    }
   },
   "outputs": [],
   "source": [
    "def bytes_to_int(byte_data):\n",
    "    return int.get_text_from_imgfrom_bytes(byte_data, 'big')\n"
   ]
  },
  {
   "cell_type": "code",
   "execution_count": 0,
   "metadata": {
    "application/vnd.databricks.v1+cell": {
     "cellMetadata": {},
     "inputWidgets": {},
     "nuid": "4d56353b-3c05-45d1-8061-c7c02f2f2d86",
     "showTitle": false,
     "title": ""
    }
   },
   "outputs": [],
   "source": []
  },
  {
   "cell_type": "code",
   "execution_count": 0,
   "metadata": {
    "application/vnd.databricks.v1+cell": {
     "cellMetadata": {},
     "inputWidgets": {},
     "nuid": "440ca2c0-aac4-4e20-961e-c04d375be73c",
     "showTitle": false,
     "title": ""
    }
   },
   "outputs": [],
   "source": [
    "def read_images(filename, n_max_images=None):\n",
    "    images = []\n",
    "    with open(filename, 'rb') as f:\n",
    "        _ = f.read(4)  # magic number\n",
    "        n_images = bytes_to_int(f.read(4))\n",
    "        if n_max_images:\n",
    "            n_images = n_max_images\n",
    "        n_rows = bytes_to_int(f.read(4))\n",
    "        n_columns = bytes_to_int(f.read(4))\n",
    "        for image_idx in range(n_images):\n",
    "            image = []\n",
    "            for row_idx in range(n_rows):\n",
    "                row = []\n",
    "                for col_idx in range(n_columns):\n",
    "                    pixel = f.read(1)\n",
    "                    row.append(pixel)\n",
    "                image.append(row)\n",
    "            images.append(image)\n",
    "    return images\n"
   ]
  },
  {
   "cell_type": "code",
   "execution_count": 0,
   "metadata": {
    "application/vnd.databricks.v1+cell": {
     "cellMetadata": {},
     "inputWidgets": {},
     "nuid": "0bb6ae11-86fd-4b3c-9d2b-5b8eb489343f",
     "showTitle": false,
     "title": ""
    }
   },
   "outputs": [],
   "source": [
    "def read_labels(filename, n_max_labels=None):\n",
    "    labels = []\n",
    "    try:\n",
    "        with open(filename, 'rb') as f:\n",
    "            _ = f.read(4)  # magic number\n",
    "            n_labels = bytes_to_int(f.read(4))\n",
    "            if n_max_labels:\n",
    "                n_labels = n_max_labels\n",
    "            for label_idx in range(n_labels):\n",
    "                label = bytes_to_int(f.read(1))\n",
    "                labels.append(label)\n",
    "            return labels\n",
    "    except Exception :\n",
    "        return e"
   ]
  },
  {
   "cell_type": "code",
   "execution_count": 0,
   "metadata": {
    "application/vnd.databricks.v1+cell": {
     "cellMetadata": {},
     "inputWidgets": {},
     "nuid": "aaaa9670-68ac-406e-8feb-0b4f38991b7b",
     "showTitle": false,
     "title": ""
    }
   },
   "outputs": [],
   "source": [
    "def flatten_list(l):\n",
    "    return [pixel for sublist in l for pixel in sublist]"
   ]
  },
  {
   "cell_type": "code",
   "execution_count": 0,
   "metadata": {
    "application/vnd.databricks.v1+cell": {
     "cellMetadata": {},
     "inputWidgets": {},
     "nuid": "44e29cc9-1f83-4273-a32e-4884bade4aff",
     "showTitle": false,
     "title": ""
    }
   },
   "outputs": [],
   "source": [
    "def extract_features(X):\n",
    "    return [flatten_list(sample) for sample in X]"
   ]
  },
  {
   "cell_type": "code",
   "execution_count": 0,
   "metadata": {
    "application/vnd.databricks.v1+cell": {
     "cellMetadata": {},
     "inputWidgets": {},
     "nuid": "54c726d3-4d30-4277-b551-d907493e67fa",
     "showTitle": false,
     "title": ""
    }
   },
   "outputs": [],
   "source": [
    "def dist(x, y):\n",
    "    \"\"\"\n",
    "    Returns the Euclidean distance between vectors `x` and `y`.\n",
    "    \"\"\"\n",
    "    return sum(\n",
    "        [\n",
    "            (bytes_to_int(x_i) - bytes_to_int(y_i)) ** 2\n",
    "            for x_i, y_i in zip(x, y)\n",
    "        ]\n",
    "    ) ** (0.5)"
   ]
  },
  {
   "cell_type": "code",
   "execution_count": 0,
   "metadata": {
    "application/vnd.databricks.v1+cell": {
     "cellMetadata": {},
     "inputWidgets": {},
     "nuid": "02730e9e-2ad2-4b76-a03e-d07fb2464746",
     "showTitle": false,
     "title": ""
    }
   },
   "outputs": [],
   "source": [
    "def get_training_distances_for_test_sample(X_train, test_sample):\n",
    "    return [dist(train_sample, test_sample) for train_sample in X_train]"
   ]
  },
  {
   "cell_type": "code",
   "execution_count": 0,
   "metadata": {
    "application/vnd.databricks.v1+cell": {
     "cellMetadata": {},
     "inputWidgets": {},
     "nuid": "443fd722-9cd4-4acd-83d3-ff12dd727ea3",
     "showTitle": false,
     "title": ""
    }
   },
   "outputs": [],
   "source": [
    "def get_most_frequent_element(l):\n",
    "    return max(l, key=l.count)"
   ]
  },
  {
   "cell_type": "code",
   "execution_count": 0,
   "metadata": {
    "application/vnd.databricks.v1+cell": {
     "cellMetadata": {},
     "inputWidgets": {},
     "nuid": "3392a746-820d-4473-b22e-74a3b9ccdbc6",
     "showTitle": false,
     "title": ""
    }
   },
   "outputs": [],
   "source": [
    "def knn(X_train, y_train, X_test, k=3):\n",
    "    y_pred = []\n",
    "    for test_sample_idx, test_sample in enumerate(X_test):\n",
    "        print(test_sample_idx, end=' ', flush=True)\n",
    "        training_distances = get_training_distances_for_test_sample(\n",
    "            X_train, test_sample\n",
    "        )\n",
    "        sorted_distance_indices = [\n",
    "            pair[0]\n",
    "            for pair in sorted(\n",
    "                enumerate(training_distances),\n",
    "                key=lambda x: x[1]\n",
    "            )\n",
    "        ]\n",
    "        candidates = [\n",
    "            y_train[idx]\n",
    "            for idx in sorted_distance_indices[:k]\n",
    "        ]\n",
    "        top_candidate = get_most_frequent_element(candidates)\n",
    "        y_pred.append(top_candidate)\n",
    "    print()\n",
    "    return y_pred"
   ]
  },
  {
   "cell_type": "code",
   "execution_count": 0,
   "metadata": {
    "application/vnd.databricks.v1+cell": {
     "cellMetadata": {},
     "inputWidgets": {},
     "nuid": "7baf5df5-9ee4-48c7-a8e1-39ca34781086",
     "showTitle": false,
     "title": ""
    }
   },
   "outputs": [],
   "source": [
    "def write_image(image, path):\n",
    "        img = Image.fromarray(np.array(image), 'L')\n",
    "        img.save(path)"
   ]
  },
  {
   "cell_type": "code",
   "execution_count": 0,
   "metadata": {
    "application/vnd.databricks.v1+cell": {
     "cellMetadata": {
      "byteLimit": 2048000,
      "rowLimit": 10000
     },
     "inputWidgets": {},
     "nuid": "6c1fac9a-b7c1-4702-8ca4-319d8703d953",
     "showTitle": false,
     "title": ""
    }
   },
   "outputs": [],
   "source": [
    "def train_model(img_url):\n",
    "\n",
    "    n_train = 1000\n",
    "    n_test = 10\n",
    "    k = 7\n",
    "    X_train = read_images(TRAIN_DATA_FILENAME, n_train)\n",
    "    y_train = read_labels(TRAIN_LABELS_FILENAME, n_train)\n",
    "    X_test = read_images(TEST_DATA_FILENAME, n_test)\n",
    "    y_test = read_labels(train_model, n_test)\n",
    "    for idx, test_sample in enumerate(X_test):\n",
    "            write_image(test_sample, f'{TEST_DIR}{idx}.png')\n",
    "    X_train = extract_features(X_train)\n",
    "    X_test = extract_features(X_test)\n",
    "    y_pred = knn(X_train, y_train, X_test, k)\n",
    "\n",
    "    accuracy = sum([\n",
    "    int(y_pred_i == y_test_i)\n",
    "    for y_pred_i, y_test_i\n",
    "    in zip(y_pred, y_test)\n",
    "    ]) / len(y_test)\n",
    "    result_text=y_pred\n",
    "    result = y_pred\n",
    "    data=[]\n",
    "    for page in result.pages:\n",
    "        for line_idx, line in enumerate(page.lines):\n",
    "\n",
    "            for word in page.words:\n",
    "\n",
    "                data.append({'content':word.content,'confidence':word.confidence,'line_number': line_idx + 1})\n",
    "    df = spark.createDataFrame(data)\n",
    "    df.write.mode('overwrite').csv(\"abfss://wmu-fm@wmu.dfs.core.windows.net/output\")\n",
    "    df = spark.createDataFrame([result_text])\n",
    "\n",
    "    return result_text\n",
    "    \n"
   ]
  },
  {
   "cell_type": "code",
   "execution_count": 0,
   "metadata": {
    "application/vnd.databricks.v1+cell": {
     "cellMetadata": {},
     "inputWidgets": {},
     "nuid": "949b59dc-3236-451c-bd96-8cde4189c65b",
     "showTitle": false,
     "title": ""
    }
   },
   "outputs": [],
   "source": [
    "async def get_text_form_img(imgUrl):\n",
    "    DATA_DIR = imgUrl\n",
    "    TEST_DIR = \"abfss://wmu-fm@wmu.dfs.core.windows.net/ocr_train/\"\n",
    "    DATASET = 'mnist'  \n",
    "    TEST_DATA_FILENAME = imgUrl\n",
    "    TEST_LABELS_FILENAME = TEST_DIR + DATASET + '/t10k-labels-idx1-ubyte'\n",
    "    TRAIN_DATA_FILENAME = TEST_DIR + DATASET + '/train-images-idx3-ubyte'\n",
    "    TRAIN_LABELS_FILENAME = TEST_DIR + DATASET + '/train-labels-idx1-ubyte'\n",
    "    return await  train_model(imgUrl)"
   ]
  },
  {
   "cell_type": "code",
   "execution_count": 0,
   "metadata": {
    "application/vnd.databricks.v1+cell": {
     "cellMetadata": {},
     "inputWidgets": {},
     "nuid": "099eda2c-d386-4704-8b83-31b22c8eded9",
     "showTitle": false,
     "title": ""
    }
   },
   "outputs": [],
   "source": []
  }
 ],
 "metadata": {
  "application/vnd.databricks.v1+notebook": {
   "dashboards": [],
   "language": "python",
   "notebookMetadata": {
    "pythonIndentUnit": 4
   },
   "notebookName": "OCR",
   "widgets": {}
  }
 },
 "nbformat": 4,
 "nbformat_minor": 0
}
