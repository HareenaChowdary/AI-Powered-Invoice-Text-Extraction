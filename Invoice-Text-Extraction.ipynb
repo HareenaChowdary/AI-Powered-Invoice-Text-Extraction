{
 "cells": [
  {
   "cell_type": "markdown",
   "metadata": {
    "application/vnd.databricks.v1+cell": {
     "cellMetadata": {},
     "inputWidgets": {},
     "nuid": "b28f4822-7ddb-495d-a470-0e64dce5486b",
     "showTitle": false,
     "title": ""
    }
   },
   "source": [
    "The below piece loads the necessary helper functions from the path. I have given a relative path to the configuration(name of the script)"
   ]
  },
  {
   "cell_type": "code",
   "execution_count": 0,
   "metadata": {
    "application/vnd.databricks.v1+cell": {
     "cellMetadata": {
      "byteLimit": 2048000,
      "rowLimit": 10000
     },
     "inputWidgets": {},
     "nuid": "37763248-c2ac-47ac-9e6a-a2d79fe99ffc",
     "showTitle": false,
     "title": ""
    }
   },
   "outputs": [],
   "source": [
    "\n",
    "imgUrl='https://files.jotform.com/jotformapps/sample-invoice-50a018112e21737ad618be7f9f3bf586.png?v=1712330340'"
   ]
  },
  {
   "cell_type": "code",
   "execution_count": 0,
   "metadata": {
    "application/vnd.databricks.v1+cell": {
     "cellMetadata": {
      "byteLimit": 2048000,
      "rowLimit": 10000
     },
     "inputWidgets": {},
     "nuid": "1c2fa648-264d-4694-8a7d-c90ea0687695",
     "showTitle": false,
     "title": ""
    }
   },
   "outputs": [],
   "source": [
    "%run  \"/WMU/Utilities\""
   ]
  },
  {
   "cell_type": "code",
   "execution_count": 0,
   "metadata": {
    "application/vnd.databricks.v1+cell": {
     "cellMetadata": {
      "byteLimit": 2048000,
      "rowLimit": 10000
     },
     "inputWidgets": {},
     "nuid": "e36244ef-e8ae-4ead-9bd6-ecae9a36371d",
     "showTitle": false,
     "title": ""
    }
   },
   "outputs": [],
   "source": [
    "text=get_text_from_img(imgUrl)"
   ]
  },
  {
   "cell_type": "code",
   "execution_count": 0,
   "metadata": {
    "application/vnd.databricks.v1+cell": {
     "cellMetadata": {
      "byteLimit": 2048000,
      "rowLimit": 10000
     },
     "inputWidgets": {},
     "nuid": "aa27324d-72ae-48ff-8bf9-62b4dd046caf",
     "showTitle": false,
     "title": ""
    }
   },
   "outputs": [
    {
     "output_type": "execute_result",
     "data": {
      "text/plain": [
       "'Company Name\\nSample Invoice\\nBilling Information\\nCompany\\nABC Company\\nName\\nJohn Smith\\nAddress\\n111 Pine Street, Suite 1815\\nSan Francisco, CA, 94111\\nPhone Number\\n(123) 123-1232\\nEmail\\nJohn@example.com\\nDescription\\nQuantity\\nProduct/Service 1\\nSink\\n2\\nProduct/Service 2\\nNest Smart Filter 1\\nProduct/Service 3\\nLabor Fee 1\\nProduct/Service 4\\nService Fee 1 25\\n06/10/2021 INVO-005\\nShipping Information\\nName\\nSam K. Smith\\nAddress\\n111 Pine Street, Suite 1815\\nSan Francisco, CA, 94111\\nUnit Price\\nTotal\\n100\\n$200\\n150\\n$150\\n50\\n$50\\n$25\\nTotal:\\n$425\\n1'"
      ]
     },
     "execution_count": 82,
     "metadata": {},
     "output_type": "execute_result"
    }
   ],
   "source": [
    "text"
   ]
  },
  {
   "cell_type": "code",
   "execution_count": 0,
   "metadata": {
    "application/vnd.databricks.v1+cell": {
     "cellMetadata": {
      "byteLimit": 2048000,
      "rowLimit": 10000
     },
     "inputWidgets": {},
     "nuid": "6e61ecbb-26f7-4719-9f4a-2eac64a9e8ed",
     "showTitle": false,
     "title": ""
    }
   },
   "outputs": [
    {
     "output_type": "stream",
     "name": "stdout",
     "output_type": "stream",
     "text": [
      "--------Recognizing invoice #1--------\nCustomer Name: ABC Company has confidence: 0.572\nInvoice Id: INVO-005 has confidence: 0.822\nInvoice Date: 2021-06-10 has confidence: 0.98\nInvoice Total: $425.0 has confidence: 0.982\nBilling Address: AddressValue(house_number=111, po_box=None, road=Pine Street, city=San Francisco, state=CA, postal_code=94111, country_region=None, street_address=111 Pine Street Suite 1815, unit=Suite 1815, city_district=None, state_district=None, suburb=None, house=None, level=None) has confidence: 0.87\nBilling Address Recipient: ABC Company has confidence: 0.572\nShipping Address: AddressValue(house_number=111, po_box=None, road=Pine Street, city=San Francisco, state=CA, postal_code=94111, country_region=None, street_address=111 Pine Street Suite 1815, unit=Suite 1815, city_district=None, state_district=None, suburb=None, house=None, level=None) has confidence: 0.878\nShipping Address Recipient: Sam K. Smith has confidence: 0.351\nInvoice items:\n...Item #1\n......Description: Sink has confidence: 0.929\n......Quantity: 2.0 has confidence: 0.923\n......Unit Price: 100.0 has confidence: 0.933\n......Amount: $200.0 has confidence: 0.936\n...Item #2\n......Description: Nest Smart Filter has confidence: 0.923\n......Quantity: 1.0 has confidence: 0.924\n......Unit Price: 150.0 has confidence: 0.934\n......Amount: $150.0 has confidence: 0.937\n...Item #3\n......Description: Labor Fee has confidence: 0.922\n......Quantity: 1.0 has confidence: 0.925\n......Unit Price: 50.0 has confidence: 0.934\n......Amount: $50.0 has confidence: 0.934\n...Item #4\n......Description: Service Fee has confidence: 0.922\n......Quantity: 1.0 has confidence: 0.933\n......Unit Price: 25.0 has confidence: 0.933\n......Amount: $25.0 has confidence: 0.936\n----------------------------------------\n"
     ]
    }
   ],
   "source": [
    "get_labelled_data(imgUrl)"
   ]
  },
  {
   "cell_type": "code",
   "execution_count": 0,
   "metadata": {
    "application/vnd.databricks.v1+cell": {
     "cellMetadata": {},
     "inputWidgets": {},
     "nuid": "328bc6f0-83f5-41d8-b586-9363845b1f15",
     "showTitle": false,
     "title": ""
    }
   },
   "outputs": [],
   "source": []
  }
 ],
 "metadata": {
  "application/vnd.databricks.v1+notebook": {
   "dashboards": [],
   "language": "python",
   "notebookMetadata": {
    "pythonIndentUnit": 4
   },
   "notebookName": "ML-Project",
   "widgets": {}
  }
 },
 "nbformat": 4,
 "nbformat_minor": 0
}
